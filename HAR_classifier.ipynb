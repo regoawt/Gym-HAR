{
 "cells": [
  {
   "cell_type": "code",
   "execution_count": 1,
   "metadata": {},
   "outputs": [],
   "source": [
    "import numpy as np\n",
    "import pandas as pd\n",
    "from sklearn import preprocessing\n",
    "import tensorflow as tf\n",
    "import csv\n",
    "import glob\n",
    "import pickle"
   ]
  },
  {
   "cell_type": "code",
   "execution_count": 20,
   "metadata": {},
   "outputs": [],
   "source": [
    "folder_path = 'Data/Next/*.csv'\n",
    "files = glob.glob(folder_path)\n",
    "\n",
    "df = pd.concat([pd.read_csv(file, index_col=None) for file in files], axis=0, ignore_index=True)"
   ]
  },
  {
   "cell_type": "code",
   "execution_count": 21,
   "metadata": {},
   "outputs": [],
   "source": [
    "data_inputs = np.asarray(df.iloc[:,0:6])\n",
    "\n",
    "label_encoder = preprocessing.LabelEncoder()\n",
    "data_labels = np.expand_dims(np.array(label_encoder.fit_transform(data.iloc[:,6])),axis=1)\n",
    "\n",
    "fileob = open('pickled_label_encoder.obj','wb')\n",
    "pickle.dump(label_encoder,fileob)\n",
    "fileob.close()\n",
    "\n",
    "data_array = np.concatenate((data_inputs,data_labels), axis=1)"
   ]
  },
  {
   "cell_type": "code",
   "execution_count": 32,
   "metadata": {},
   "outputs": [],
   "source": [
    "def window_dataset(data,window_size,shift):\n",
    "    \n",
    "    num_windows = int(np.floor((len(data)-window_size)/shift))\n",
    "    windowed_data = np.zeros([num_windows,window_size,np.shape(data)[1]])\n",
    "\n",
    "    for i in range(num_windows):\n",
    "        windowed_data[i,:,:] = data[i*shift:i*shift+window_size,:]\n",
    "    \n",
    "    return windowed_data"
   ]
  },
  {
   "cell_type": "code",
   "execution_count": 33,
   "metadata": {},
   "outputs": [
    {
     "name": "stdout",
     "output_type": "stream",
     "text": [
      "(409, 40)\n"
     ]
    }
   ],
   "source": [
    "window_size = 40\n",
    "shift = 20\n",
    "windowed_data = window_dataset(data_array,window_size,shift)\n",
    "\n",
    "shuffled_data = np.take(windowed_data,np.random.rand(windowed_data.shape[0]).argsort(),axis=0)\n",
    "\n",
    "window_labels = shuffled_data[:,:,6]\n",
    "mask = np.mean(window_labels, axis=1) == np.min(window_labels, axis=1)\n",
    "\n",
    "labels = np.mean(window_labels, axis=1)[mask].astype(np.int)\n",
    "\n",
    "input_data_1 = np.array(shuffled_data[mask,:,0])\n",
    "input_data_2 = np.array(shuffled_data[mask,:,1])\n",
    "input_data_3 = np.array(shuffled_data[mask,:,2])\n",
    "input_data_4 = np.array(shuffled_data[mask,:,3])\n",
    "input_data_5 = np.array(shuffled_data[mask,:,4])\n",
    "input_data_6 = np.array(shuffled_data[mask,:,5])\n",
    "print(input_data_1.shape)"
   ]
  },
  {
   "cell_type": "code",
   "execution_count": 34,
   "metadata": {},
   "outputs": [],
   "source": [
    "input_1 = tf.keras.layers.Input(shape=[window_size,1])\n",
    "conv_1 = tf.keras.layers.Conv1D(5, 5, activation='relu')(input_1)\n",
    "input_2 = tf.keras.layers.Input(shape=[window_size,1])\n",
    "conv_2 = tf.keras.layers.Conv1D(5, 5, activation='relu')(input_2)\n",
    "input_3 = tf.keras.layers.Input(shape=[window_size,1])\n",
    "conv_3 = tf.keras.layers.Conv1D(5, 5, activation='relu')(input_3)\n",
    "input_4 = tf.keras.layers.Input(shape=[window_size,1])\n",
    "conv_4 = tf.keras.layers.Conv1D(5, 5, activation='relu')(input_4)\n",
    "input_5 = tf.keras.layers.Input(shape=[window_size,1])\n",
    "conv_5 = tf.keras.layers.Conv1D(5, 5, activation='relu')(input_5)\n",
    "input_6 = tf.keras.layers.Input(shape=[window_size,1])\n",
    "conv_6 = tf.keras.layers.Conv1D(5, 5, activation='relu')(input_6)\n",
    "\n",
    "concat = tf.keras.layers.Concatenate()([conv_1, conv_2, conv_3, conv_4, conv_5, conv_6])\n",
    "flatten = tf.keras.layers.Flatten()(concat)\n",
    "dense1 = tf.keras.layers.Dense(30, activation='relu')(flatten)\n",
    "dense2 = tf.keras.layers.Dense(30, activation='relu')(dense1)\n",
    "output = tf.keras.layers.Dense(np.max(labels)+1, activation = 'softmax')(dense2)\n",
    "model = tf.keras.Model(inputs=[input_1, input_2, input_3, input_4, input_5, input_6], outputs=[output])"
   ]
  },
  {
   "cell_type": "code",
   "execution_count": 35,
   "metadata": {},
   "outputs": [
    {
     "name": "stdout",
     "output_type": "stream",
     "text": [
      "Model: \"functional_1\"\n",
      "__________________________________________________________________________________________________\n",
      "Layer (type)                    Output Shape         Param #     Connected to                     \n",
      "==================================================================================================\n",
      "input_1 (InputLayer)            [(None, 40, 1)]      0                                            \n",
      "__________________________________________________________________________________________________\n",
      "input_2 (InputLayer)            [(None, 40, 1)]      0                                            \n",
      "__________________________________________________________________________________________________\n",
      "input_3 (InputLayer)            [(None, 40, 1)]      0                                            \n",
      "__________________________________________________________________________________________________\n",
      "input_4 (InputLayer)            [(None, 40, 1)]      0                                            \n",
      "__________________________________________________________________________________________________\n",
      "input_5 (InputLayer)            [(None, 40, 1)]      0                                            \n",
      "__________________________________________________________________________________________________\n",
      "input_6 (InputLayer)            [(None, 40, 1)]      0                                            \n",
      "__________________________________________________________________________________________________\n",
      "conv1d (Conv1D)                 (None, 36, 5)        30          input_1[0][0]                    \n",
      "__________________________________________________________________________________________________\n",
      "conv1d_1 (Conv1D)               (None, 36, 5)        30          input_2[0][0]                    \n",
      "__________________________________________________________________________________________________\n",
      "conv1d_2 (Conv1D)               (None, 36, 5)        30          input_3[0][0]                    \n",
      "__________________________________________________________________________________________________\n",
      "conv1d_3 (Conv1D)               (None, 36, 5)        30          input_4[0][0]                    \n",
      "__________________________________________________________________________________________________\n",
      "conv1d_4 (Conv1D)               (None, 36, 5)        30          input_5[0][0]                    \n",
      "__________________________________________________________________________________________________\n",
      "conv1d_5 (Conv1D)               (None, 36, 5)        30          input_6[0][0]                    \n",
      "__________________________________________________________________________________________________\n",
      "concatenate (Concatenate)       (None, 36, 30)       0           conv1d[0][0]                     \n",
      "                                                                 conv1d_1[0][0]                   \n",
      "                                                                 conv1d_2[0][0]                   \n",
      "                                                                 conv1d_3[0][0]                   \n",
      "                                                                 conv1d_4[0][0]                   \n",
      "                                                                 conv1d_5[0][0]                   \n",
      "__________________________________________________________________________________________________\n",
      "flatten (Flatten)               (None, 1080)         0           concatenate[0][0]                \n",
      "__________________________________________________________________________________________________\n",
      "dense (Dense)                   (None, 30)           32430       flatten[0][0]                    \n",
      "__________________________________________________________________________________________________\n",
      "dense_1 (Dense)                 (None, 30)           930         dense[0][0]                      \n",
      "__________________________________________________________________________________________________\n",
      "dense_2 (Dense)                 (None, 5)            155         dense_1[0][0]                    \n",
      "==================================================================================================\n",
      "Total params: 33,695\n",
      "Trainable params: 33,695\n",
      "Non-trainable params: 0\n",
      "__________________________________________________________________________________________________\n"
     ]
    }
   ],
   "source": [
    "model.summary()"
   ]
  },
  {
   "cell_type": "code",
   "execution_count": 36,
   "metadata": {},
   "outputs": [],
   "source": [
    "dummy_labels = tf.keras.utils.to_categorical(labels)"
   ]
  },
  {
   "cell_type": "code",
   "execution_count": 37,
   "metadata": {},
   "outputs": [
    {
     "name": "stdout",
     "output_type": "stream",
     "text": [
      "Epoch 1/50\n",
      "11/11 [==============================] - 0s 27ms/step - loss: 2.5564 - accuracy: 0.3573 - val_loss: 1.4019 - val_accuracy: 0.5161\n",
      "Epoch 2/50\n",
      "11/11 [==============================] - 0s 14ms/step - loss: 0.6387 - accuracy: 0.7233 - val_loss: 0.9818 - val_accuracy: 0.6935\n",
      "Epoch 3/50\n",
      "11/11 [==============================] - 0s 6ms/step - loss: 0.3531 - accuracy: 0.8357 - val_loss: 0.8593 - val_accuracy: 0.7742\n",
      "Epoch 4/50\n",
      "11/11 [==============================] - 0s 6ms/step - loss: 0.2242 - accuracy: 0.9625 - val_loss: 0.5635 - val_accuracy: 0.8065\n",
      "Epoch 5/50\n",
      "11/11 [==============================] - 0s 6ms/step - loss: 0.1452 - accuracy: 0.9856 - val_loss: 0.5359 - val_accuracy: 0.8226\n",
      "Epoch 6/50\n",
      "11/11 [==============================] - 0s 6ms/step - loss: 0.0880 - accuracy: 0.9942 - val_loss: 0.4746 - val_accuracy: 0.8387\n",
      "Epoch 7/50\n",
      "11/11 [==============================] - 0s 6ms/step - loss: 0.0484 - accuracy: 0.9942 - val_loss: 0.4872 - val_accuracy: 0.8710\n",
      "Epoch 8/50\n",
      "11/11 [==============================] - 0s 6ms/step - loss: 0.0242 - accuracy: 1.0000 - val_loss: 0.5024 - val_accuracy: 0.8710\n",
      "Epoch 9/50\n",
      "11/11 [==============================] - 0s 6ms/step - loss: 0.0149 - accuracy: 1.0000 - val_loss: 0.4853 - val_accuracy: 0.8871\n",
      "Epoch 10/50\n",
      "11/11 [==============================] - 0s 5ms/step - loss: 0.0105 - accuracy: 1.0000 - val_loss: 0.4656 - val_accuracy: 0.9032\n",
      "Epoch 11/50\n",
      "11/11 [==============================] - 0s 6ms/step - loss: 0.0081 - accuracy: 1.0000 - val_loss: 0.4694 - val_accuracy: 0.8710\n",
      "Epoch 12/50\n",
      "11/11 [==============================] - 0s 6ms/step - loss: 0.0065 - accuracy: 1.0000 - val_loss: 0.4755 - val_accuracy: 0.8871\n",
      "Epoch 13/50\n",
      "11/11 [==============================] - 0s 7ms/step - loss: 0.0055 - accuracy: 1.0000 - val_loss: 0.4760 - val_accuracy: 0.8871\n",
      "Epoch 14/50\n",
      "11/11 [==============================] - 0s 6ms/step - loss: 0.0048 - accuracy: 1.0000 - val_loss: 0.4733 - val_accuracy: 0.8710\n",
      "Epoch 15/50\n",
      "11/11 [==============================] - 0s 6ms/step - loss: 0.0042 - accuracy: 1.0000 - val_loss: 0.4688 - val_accuracy: 0.8710\n",
      "Epoch 16/50\n",
      "11/11 [==============================] - 0s 6ms/step - loss: 0.0036 - accuracy: 1.0000 - val_loss: 0.4642 - val_accuracy: 0.8871\n",
      "Epoch 17/50\n",
      "11/11 [==============================] - 0s 6ms/step - loss: 0.0033 - accuracy: 1.0000 - val_loss: 0.4610 - val_accuracy: 0.8871\n",
      "Epoch 18/50\n",
      "11/11 [==============================] - 0s 6ms/step - loss: 0.0030 - accuracy: 1.0000 - val_loss: 0.4565 - val_accuracy: 0.8871\n",
      "Epoch 19/50\n",
      "11/11 [==============================] - 0s 5ms/step - loss: 0.0027 - accuracy: 1.0000 - val_loss: 0.4521 - val_accuracy: 0.8871\n",
      "Epoch 20/50\n",
      "11/11 [==============================] - 0s 6ms/step - loss: 0.0024 - accuracy: 1.0000 - val_loss: 0.4482 - val_accuracy: 0.8871\n",
      "Epoch 21/50\n",
      "11/11 [==============================] - 0s 6ms/step - loss: 0.0022 - accuracy: 1.0000 - val_loss: 0.4481 - val_accuracy: 0.8710\n",
      "Epoch 22/50\n",
      "11/11 [==============================] - 0s 6ms/step - loss: 0.0020 - accuracy: 1.0000 - val_loss: 0.4444 - val_accuracy: 0.8710\n",
      "Epoch 23/50\n",
      "11/11 [==============================] - 0s 6ms/step - loss: 0.0019 - accuracy: 1.0000 - val_loss: 0.4411 - val_accuracy: 0.8710\n",
      "Epoch 24/50\n",
      "11/11 [==============================] - 0s 6ms/step - loss: 0.0018 - accuracy: 1.0000 - val_loss: 0.4373 - val_accuracy: 0.8710\n",
      "Epoch 25/50\n",
      "11/11 [==============================] - 0s 6ms/step - loss: 0.0016 - accuracy: 1.0000 - val_loss: 0.4354 - val_accuracy: 0.8710\n",
      "Epoch 26/50\n",
      "11/11 [==============================] - 0s 6ms/step - loss: 0.0015 - accuracy: 1.0000 - val_loss: 0.4332 - val_accuracy: 0.8710\n",
      "Epoch 27/50\n",
      "11/11 [==============================] - 0s 6ms/step - loss: 0.0014 - accuracy: 1.0000 - val_loss: 0.4274 - val_accuracy: 0.8871\n",
      "Epoch 28/50\n",
      "11/11 [==============================] - 0s 6ms/step - loss: 0.0013 - accuracy: 1.0000 - val_loss: 0.4267 - val_accuracy: 0.8871\n",
      "Epoch 29/50\n",
      "11/11 [==============================] - 0s 6ms/step - loss: 0.0013 - accuracy: 1.0000 - val_loss: 0.4274 - val_accuracy: 0.8871\n",
      "Epoch 30/50\n",
      "11/11 [==============================] - 0s 5ms/step - loss: 0.0012 - accuracy: 1.0000 - val_loss: 0.4230 - val_accuracy: 0.9032\n",
      "Epoch 31/50\n",
      "11/11 [==============================] - 0s 6ms/step - loss: 0.0011 - accuracy: 1.0000 - val_loss: 0.4226 - val_accuracy: 0.9032\n",
      "Epoch 32/50\n",
      "11/11 [==============================] - 0s 6ms/step - loss: 0.0011 - accuracy: 1.0000 - val_loss: 0.4223 - val_accuracy: 0.9032\n",
      "Epoch 33/50\n",
      "11/11 [==============================] - 0s 7ms/step - loss: 9.8762e-04 - accuracy: 1.0000 - val_loss: 0.4213 - val_accuracy: 0.9032\n",
      "Epoch 34/50\n",
      "11/11 [==============================] - 0s 6ms/step - loss: 9.3748e-04 - accuracy: 1.0000 - val_loss: 0.4187 - val_accuracy: 0.9032\n",
      "Epoch 35/50\n",
      "11/11 [==============================] - 0s 9ms/step - loss: 8.9456e-04 - accuracy: 1.0000 - val_loss: 0.4183 - val_accuracy: 0.9194\n",
      "Epoch 36/50\n",
      "11/11 [==============================] - 0s 13ms/step - loss: 8.4639e-04 - accuracy: 1.0000 - val_loss: 0.4152 - val_accuracy: 0.9194\n",
      "Epoch 37/50\n",
      "11/11 [==============================] - 0s 11ms/step - loss: 8.1142e-04 - accuracy: 1.0000 - val_loss: 0.4165 - val_accuracy: 0.9194\n",
      "Epoch 38/50\n",
      "11/11 [==============================] - 0s 10ms/step - loss: 7.7063e-04 - accuracy: 1.0000 - val_loss: 0.4171 - val_accuracy: 0.9194\n",
      "Epoch 39/50\n",
      "11/11 [==============================] - 0s 6ms/step - loss: 7.3532e-04 - accuracy: 1.0000 - val_loss: 0.4154 - val_accuracy: 0.9194\n",
      "Epoch 40/50\n",
      "11/11 [==============================] - 0s 7ms/step - loss: 7.0047e-04 - accuracy: 1.0000 - val_loss: 0.4135 - val_accuracy: 0.9194\n",
      "Epoch 41/50\n",
      "11/11 [==============================] - 0s 7ms/step - loss: 6.7243e-04 - accuracy: 1.0000 - val_loss: 0.4147 - val_accuracy: 0.9194\n",
      "Epoch 42/50\n",
      "11/11 [==============================] - 0s 6ms/step - loss: 6.4438e-04 - accuracy: 1.0000 - val_loss: 0.4139 - val_accuracy: 0.9194\n",
      "Epoch 43/50\n",
      "11/11 [==============================] - 0s 6ms/step - loss: 6.1607e-04 - accuracy: 1.0000 - val_loss: 0.4124 - val_accuracy: 0.9194\n",
      "Epoch 44/50\n",
      "11/11 [==============================] - 0s 6ms/step - loss: 5.9095e-04 - accuracy: 1.0000 - val_loss: 0.4093 - val_accuracy: 0.9194\n",
      "Epoch 45/50\n",
      "11/11 [==============================] - 0s 6ms/step - loss: 5.6698e-04 - accuracy: 1.0000 - val_loss: 0.4095 - val_accuracy: 0.9194\n",
      "Epoch 46/50\n",
      "11/11 [==============================] - 0s 6ms/step - loss: 5.4569e-04 - accuracy: 1.0000 - val_loss: 0.4118 - val_accuracy: 0.9194\n",
      "Epoch 47/50\n",
      "11/11 [==============================] - 0s 6ms/step - loss: 5.2709e-04 - accuracy: 1.0000 - val_loss: 0.4148 - val_accuracy: 0.9194\n",
      "Epoch 48/50\n",
      "11/11 [==============================] - 0s 6ms/step - loss: 5.0910e-04 - accuracy: 1.0000 - val_loss: 0.4161 - val_accuracy: 0.9194\n",
      "Epoch 49/50\n",
      "11/11 [==============================] - 0s 5ms/step - loss: 4.8943e-04 - accuracy: 1.0000 - val_loss: 0.4143 - val_accuracy: 0.9194\n",
      "Epoch 50/50\n",
      "11/11 [==============================] - 0s 5ms/step - loss: 4.7009e-04 - accuracy: 1.0000 - val_loss: 0.4112 - val_accuracy: 0.9194\n"
     ]
    }
   ],
   "source": [
    "model.compile(loss = 'categorical_crossentropy', optimizer='adam', metrics=['accuracy'])\n",
    "history = model.fit([input_data_1,input_data_2,input_data_3,\n",
    "                     input_data_4,input_data_5,input_data_6],dummy_labels, epochs = 50,validation_split=0.15)"
   ]
  },
  {
   "cell_type": "code",
   "execution_count": 38,
   "metadata": {},
   "outputs": [
    {
     "name": "stdout",
     "output_type": "stream",
     "text": [
      "WARNING:tensorflow:From /usr/local/lib/python3.8/site-packages/tensorflow/python/training/tracking/tracking.py:111: Model.state_updates (from tensorflow.python.keras.engine.training) is deprecated and will be removed in a future version.\n",
      "Instructions for updating:\n",
      "This property should not be used in TensorFlow 2.0, as updates are applied automatically.\n",
      "WARNING:tensorflow:From /usr/local/lib/python3.8/site-packages/tensorflow/python/training/tracking/tracking.py:111: Layer.updates (from tensorflow.python.keras.engine.base_layer) is deprecated and will be removed in a future version.\n",
      "Instructions for updating:\n",
      "This property should not be used in TensorFlow 2.0, as updates are applied automatically.\n",
      "INFO:tensorflow:Assets written to: HAR_model/assets\n"
     ]
    }
   ],
   "source": [
    "model.save('HAR_model')"
   ]
  },
  {
   "cell_type": "code",
   "execution_count": null,
   "metadata": {},
   "outputs": [],
   "source": []
  }
 ],
 "metadata": {
  "kernelspec": {
   "display_name": "Python 3",
   "language": "python",
   "name": "python3"
  },
  "language_info": {
   "codemirror_mode": {
    "name": "ipython",
    "version": 3
   },
   "file_extension": ".py",
   "mimetype": "text/x-python",
   "name": "python",
   "nbconvert_exporter": "python",
   "pygments_lexer": "ipython3",
   "version": "3.8.5"
  }
 },
 "nbformat": 4,
 "nbformat_minor": 4
}
